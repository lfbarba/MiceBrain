{
 "cells": [
  {
   "cell_type": "code",
   "execution_count": 1,
   "id": "dbf65410",
   "metadata": {
    "tags": []
   },
   "outputs": [
    {
     "name": "stderr",
     "output_type": "stream",
     "text": [
      "/opt/conda/lib/python3.10/site-packages/tqdm/auto.py:21: TqdmWarning: IProgress not found. Please update jupyter and ipywidgets. See https://ipywidgets.readthedocs.io/en/stable/user_install.html\n",
      "  from .autonotebook import tqdm as notebook_tqdm\n",
      "There was a problem when trying to write in your cache folder (/home/jovyan/.cache/huggingface/hub). Please, ensure the directory exists and can be written to.\n",
      "There was a problem when trying to write in your cache folder (/home/jovyan/.cache/huggingface/hub). You should set the environment variable TRANSFORMERS_CACHE to a writable directory.\n",
      "Matplotlib created a temporary cache directory at /tmp/matplotlib-5dl9ojyn because the default path (/home/jovyan/.cache/matplotlib) is not a writable directory; it is highly recommended to set the MPLCONFIGDIR environment variable to a writable directory, in particular to speed up the import of Matplotlib and to better support multiprocessing.\n"
     ]
    }
   ],
   "source": [
    "import sys\n",
    "import os\n",
    "\n",
    "from argparse import ArgumentParser\n",
    "\n",
    "import torch\n",
    "from pytorch_base.experiment import PyTorchExperiment\n",
    "from pytorch_base.base_loss import BaseLoss\n",
    "\n",
    "import random\n",
    "from tqdm.auto import tqdm\n",
    "\n",
    "from diffusers import UNet1DModel\n",
    "from diffusers import DDPMScheduler\n",
    "from diffusers.optimization import get_cosine_schedule_with_warmup\n",
    "import math\n",
    "\n",
    "import numpy as np\n",
    "from torch.utils.data import Dataset\n",
    "\n",
    "import matplotlib.pyplot as plt\n",
    "\n",
    "import lovely_tensors as lt\n",
    "lt.monkey_patch()\n"
   ]
  },
  {
   "cell_type": "code",
   "execution_count": 2,
   "id": "061229a5",
   "metadata": {
    "tags": []
   },
   "outputs": [
    {
     "data": {
      "text/plain": [
       "(tensor[1918708, 156] f64 n=299318448 (2.2Gb) x∈[-0.692, 12.450] μ=-7.468e-17 σ=1.000,\n",
       " tensor[528, 320, 456] i16 n=77045760 (0.1Gb) x∈[0, 516] μ=59.817 σ=78.802,\n",
       " tensor[1918708, 3] i64 n=5756124 (44Mb) x∈[9, 515] μ=237.173 σ=114.511)"
      ]
     },
     "execution_count": 2,
     "metadata": {},
     "output_type": "execute_result"
    }
   ],
   "source": [
    "DATA_PATH = \"/mydata/chip/luisb/mice_brain/\" if torch.cuda.is_available() else \"data\"\n",
    "integer_brain_coord = torch.tensor(np.load(f'{DATA_PATH}/integer_brain_coord.npy'))\n",
    "reference_image = torch.tensor(np.load(f'{DATA_PATH}/reference_image.npy').astype(np.int16))\n",
    "brain2_slices_rs = torch.tensor(np.load(f'{DATA_PATH}/brain2_slices_rs.npy'))\n",
    "brain2_slices_rs, reference_image, integer_brain_coord"
   ]
  },
  {
   "cell_type": "code",
   "execution_count": 3,
   "id": "6fb1290a-08b1-4c06-bd21-3fe865161479",
   "metadata": {
    "tags": []
   },
   "outputs": [
    {
     "data": {
      "text/plain": [
       "(tensor[157] x∈[-0.272, 109.213] μ=0.696 σ=8.744,\n",
       " tensor[157] x∈[0.084, 83.133] μ=0.788 σ=6.627)"
      ]
     },
     "execution_count": 3,
     "metadata": {},
     "output_type": "execute_result"
    }
   ],
   "source": [
    "# notmalize data\n",
    "# normalize volume\n",
    "means = torch.tensor(np.load(\"means.npy\"))\n",
    "stds = torch.tensor(np.load(\"stds.npy\"))\n",
    "means, stds"
   ]
  },
  {
   "cell_type": "code",
   "execution_count": 4,
   "id": "4e5a9237-d7df-4cc8-b092-a5c30e93ac53",
   "metadata": {
    "tags": []
   },
   "outputs": [
    {
     "data": {
      "text/plain": [
       "(tensor[1918708, 156] f64 n=299318448 (2.2Gb) x∈[-7.406, 97.790] μ=-0.307 σ=0.941,\n",
       " tensor[528, 320, 456] n=77045760 (0.3Gb) x∈[-1.314, 4.893] μ=-0.594 σ=0.948)"
      ]
     },
     "execution_count": 4,
     "metadata": {},
     "output_type": "execute_result"
    }
   ],
   "source": [
    "reference_image = (reference_image - means[-1]) / stds[-1]\n",
    "brain2_slices_rs = (brain2_slices_rs - means[:-1]) / stds[:-1]\n",
    "brain2_slices_rs, reference_image"
   ]
  },
  {
   "cell_type": "markdown",
   "id": "b19a8a1d",
   "metadata": {},
   "source": [
    "# Dataset"
   ]
  },
  {
   "cell_type": "code",
   "execution_count": 5,
   "id": "0486101a",
   "metadata": {
    "tags": []
   },
   "outputs": [],
   "source": [
    "import sys\n",
    "import os\n",
    "\n",
    "from argparse import ArgumentParser\n",
    "\n",
    "import torch\n",
    "from pytorch_base.experiment import PyTorchExperiment\n",
    "from pytorch_base.base_loss import BaseLoss\n",
    "\n",
    "import random\n",
    "from tqdm.auto import tqdm\n",
    "\n",
    "from diffusers import UNet1DModel\n",
    "from diffusers import DDPMScheduler\n",
    "from diffusers.optimization import get_cosine_schedule_with_warmup\n",
    "import math\n",
    "\n",
    "import numpy as np\n",
    "from torch.utils.data import Dataset\n",
    "\n",
    "import matplotlib.pyplot as plt\n",
    "\n",
    "import lovely_tensors as lt\n",
    "lt.monkey_patch()\n"
   ]
  },
  {
   "cell_type": "code",
   "execution_count": 6,
   "id": "6ed0d043",
   "metadata": {
    "tags": []
   },
   "outputs": [],
   "source": [
    "def apply_circle_mask(img):\n",
    "    W, H = img.shape[-2:]\n",
    "    cp = torch.cartesian_prod(torch.arange(W, device=img.device), torch.arange(H, device=img.device))\n",
    "    circle_mask = (cp[:, 0] - W / 2) ** 2 + (cp[:, 1] - W / 2) ** 2 <= (W / 2) ** 2\n",
    "    return img * circle_mask.reshape(img.shape[-2:])"
   ]
  },
  {
   "cell_type": "code",
   "execution_count": 7,
   "id": "3c484f72",
   "metadata": {
    "tags": []
   },
   "outputs": [
    {
     "name": "stdout",
     "output_type": "stream",
     "text": [
      "tensor[2, 157, 32] n=10048 (39Kb) x∈[-1.895, 9.520] μ=-0.246 σ=0.573\n"
     ]
    }
   ],
   "source": [
    "from mice.datasets.slice_dataset import SliceDataset\n",
    "import lovely_tensors as lt\n",
    "import os\n",
    "lt.monkey_patch()\n",
    "\n",
    "\n",
    "means = torch.tensor(np.load(\"means.npy\"))\n",
    "stds = torch.tensor(np.load(\"stds.npy\"))\n",
    "\n",
    "\n",
    "kwargs = {\n",
    "    'path': f'{DATA_PATH}/sections',\n",
    "    'im_size':32,\n",
    "    'train_transform': True,\n",
    "#     'rotation_angle': 30,\n",
    "#     'rescale': 100,\n",
    "    'stds':stds,\n",
    "    'means':means\n",
    "}\n",
    "\n",
    "trainSet = SliceDataset(**kwargs)\n",
    "print(trainSet[100])"
   ]
  },
  {
   "cell_type": "markdown",
   "id": "e305f75a",
   "metadata": {},
   "source": [
    "# Testing Diffussion model"
   ]
  },
  {
   "cell_type": "code",
   "execution_count": 8,
   "id": "d394baaf",
   "metadata": {
    "tags": []
   },
   "outputs": [
    {
     "name": "stdout",
     "output_type": "stream",
     "text": [
      "models loaded from checkpoint checkpoints/MiceBrain10.pt\n"
     ]
    },
    {
     "data": {
      "text/plain": [
       "''"
      ]
     },
     "execution_count": 8,
     "metadata": {},
     "output_type": "execute_result"
    }
   ],
   "source": [
    "from diffusers import UNet1DModel\n",
    "from main import load_model\n",
    "device = torch.device('cuda') if torch.cuda.is_available() else torch.device('mps')\n",
    "model = UNet1DModel(\n",
    "        sample_size=32,  # Adjusted to 32\n",
    "        in_channels=11,\n",
    "        out_channels=11,\n",
    "        layers_per_block=1,\n",
    "        block_out_channels=(32, 64),  # Reduced the number of output channels per block\n",
    "        down_block_types=(\n",
    "            \"DownBlock1D\",  # Keep the same\n",
    "            \"AttnDownBlock1D\",  # One less downsampling block\n",
    "        ),\n",
    "        up_block_types=(\n",
    "            \"AttnUpBlock1D\",  # Keep the same\n",
    "            \"UpBlock1D\",  # Reduced the number of upsampling blocks accordingly\n",
    "        ),\n",
    "    ).to(device)\n",
    "load_model(model, \"checkpoints/MiceBrain10.pt\")\n",
    "# model.eval()\n",
    "\"\""
   ]
  },
  {
   "cell_type": "code",
   "execution_count": 9,
   "id": "7e9c6931",
   "metadata": {
    "tags": []
   },
   "outputs": [
    {
     "data": {
      "text/plain": [
       "tensor[1, 11, 32] n=352 (1.4Kb) x∈[-1.340, 1.869] μ=-0.209 σ=0.623"
      ]
     },
     "execution_count": 9,
     "metadata": {},
     "output_type": "execute_result"
    },
    {
     "data": {
      "image/png": "[encoded data removed]",
      "text/plain": [
       "<Figure size 640x480 with 1 Axes>"
      ]
     },
     "metadata": {},
     "output_type": "display_data"
    }
   ],
   "source": [
    "# load dataset\n",
    "from main import get_dataset\n",
    "means = torch.tensor(np.load(\"means.npy\"))\n",
    "stds = torch.tensor(np.load(\"stds.npy\"))\n",
    "kwargs = {\n",
    "    \"path\": f\"{DATA_PATH}/sections\",\n",
    "    'im_size':32,\n",
    "    \"train_transform\": True,\n",
    "    'stds': stds,\n",
    "    'means': means\n",
    "}\n",
    "\n",
    "trainSet, testSet = get_dataset(kwargs)\n",
    "target = testSet[0][:1, -11:]\n",
    "plt.plot(target[0, -1])\n",
    "plt.plot(target[0, 8])\n",
    "target"
   ]
  },
  {
   "cell_type": "markdown",
   "id": "ab50d75a",
   "metadata": {},
   "source": [
    "# Testing diffusion on one sample"
   ]
  },
  {
   "cell_type": "code",
   "execution_count": 10,
   "id": "d91ea58a",
   "metadata": {
    "tags": []
   },
   "outputs": [
    {
     "data": {
      "text/plain": [
       "tensor cuda:0 0.026"
      ]
     },
     "execution_count": 10,
     "metadata": {},
     "output_type": "execute_result"
    }
   ],
   "source": [
    "from diffusers import DDPMScheduler\n",
    "noise_scheduler = DDPMScheduler(num_train_timesteps=1000)\n",
    "noise_scheduler.config.clip_sample = True\n",
    "noise_scheduler.config.clip_sample_range = 5.0\n",
    "\n",
    "timestep = torch.LongTensor([500]).to(device)\n",
    "noise = torch.randn_like(target[:, 0]).to(device)\n",
    "expanded_noise = noise.repeat(target.shape[1], 1, 1).transpose(0, 1)\n",
    "x_t = noise_scheduler.add_noise(target.to(device), expanded_noise, timestep).to(device)\n",
    "\n",
    "# we predict the noise for this step t\n",
    "with torch.no_grad():\n",
    "    x_0_pred = model(x_t, timestep=timestep, return_dict=False)[0]\n",
    "    \n",
    "#     fading_factor = noise_scheduler.add_noise(torch.ones(1), torch.zeros(1), timestep).to(device)\n",
    "#     noise_factor = noise_scheduler.add_noise(torch.zeros(1), torch.ones(1), timestep).to(device)\n",
    "\n",
    "#     x_0_pred = (x_t - noise_factor * noise_pred) / fading_factor\n",
    "#     x_0_pred = noise_scheduler.step(noise_pred.repeat(target.shape[1], 1, 1).transpose(0, 1), timestep.item(), x_t).pred_original_sample\n",
    "\n",
    "\n",
    "# plot_tomogram_overview(x_0_pred[0].cpu().detach().clip(0, 1))\n",
    "mse = torch.nn.MSELoss()\n",
    "loss = mse(x_0_pred, target.to(device))\n",
    "loss"
   ]
  },
  {
   "cell_type": "code",
   "execution_count": 11,
   "id": "2f0c05aa",
   "metadata": {
    "tags": []
   },
   "outputs": [
    {
     "data": {
      "text/plain": [
       "tensor[544, 320, 480] n=83558400 (0.3Gb) x∈[-1.314, 4.893] μ=-0.548 σ=0.924"
      ]
     },
     "execution_count": 11,
     "metadata": {},
     "output_type": "execute_result"
    }
   ],
   "source": [
    "import torch.nn.functional as F\n",
    "padded_reference = F.pad(reference_image, (0, 24, 0, 0, 0, 16))\n",
    "padded_reference"
   ]
  },
  {
   "cell_type": "code",
   "execution_count": 12,
   "id": "59a25fae",
   "metadata": {
    "tags": []
   },
   "outputs": [
    {
     "data": {
      "text/plain": [
       "tensor[544, 320, 480, 11] n=919142400 (3.4Gb) x∈[-5.241, 97.790] μ=-0.056 σ=0.348"
      ]
     },
     "execution_count": 12,
     "metadata": {},
     "output_type": "execute_result"
    }
   ],
   "source": [
    "indices = torch.arange(156-10, 156)\n",
    "with torch.no_grad():\n",
    "    volume = torch.zeros((*padded_reference.shape, len(indices)+1), dtype=torch.float32)\n",
    "    volume[integer_brain_coord[:, 0], integer_brain_coord[:, 1], integer_brain_coord[:, 2], :-1] =  brain2_slices_rs[:, indices].clone().float()\n",
    "    volume[:, :, :, -1] = padded_reference\n",
    "volume"
   ]
  },
  {
   "cell_type": "code",
   "execution_count": 13,
   "id": "945254d6",
   "metadata": {
    "tags": []
   },
   "outputs": [
    {
     "data": {
      "text/plain": [
       "tensor[544, 320, 480, 11] n=919142400 (3.4Gb) \u001b[38;2;127;127;127mall_zeros\u001b[0m"
      ]
     },
     "execution_count": 13,
     "metadata": {},
     "output_type": "execute_result"
    }
   ],
   "source": [
    "def flatten(permutation, volume, size=32):\n",
    "    return volume.permute(permutation).flatten(0, 1).unfold(dimension=1, size=size, step=size).flatten(0, 1)\n",
    "\n",
    "def unflatten(permutation, flat_volume, shape):\n",
    "    size = flat_volume.shape[-1]\n",
    "    permuted_shape = [shape[i] for i in permutation]\n",
    "    inverse_permutation = [x.item() for x in torch.tensor(permutation).sort().indices]\n",
    "    unfolded_volume = flat_volume.unflatten(0, (-1, permuted_shape[-2]//size)).transpose(-1, -2).flatten(-3, -2)\n",
    "    return unfolded_volume.reshape(permuted_shape, 2).permute(inverse_permutation)\n",
    "\n",
    "permutation = (2, 1, 0, 3)\n",
    "unflatten(permutation,  flatten(permutation, volume), volume.shape) - volume"
   ]
  },
  {
   "cell_type": "code",
   "execution_count": 14,
   "id": "e1fef7a1",
   "metadata": {
    "tags": []
   },
   "outputs": [],
   "source": [
    "import torch.nn as nn\n",
    "class BrainSliceDiffusion(nn.Module):\n",
    "    def __init__(self, image_shape, channels_indices, unet, buffer=5):\n",
    "        super(BrainSliceDiffusion, self).__init__()\n",
    "        self.unet = unet\n",
    "        self.buffer = buffer\n",
    "        self.channels = channels_indices\n",
    "\n",
    "    def inpainting(self, pred_x_0, integer_brain_coord, brain2_slices_rs, reference_image):\n",
    "        with torch.no_grad():\n",
    "            pred_x_0[integer_brain_coord[:, 0], integer_brain_coord[:, 1], integer_brain_coord[:, 2], :-1] *= 0\n",
    "            pred_x_0[integer_brain_coord[:, 0], integer_brain_coord[:, 1], integer_brain_coord[:, 2], :-1] +=  brain2_slices_rs[:, self.channels].clone().float() \n",
    "            pred_x_0[:, :, :, -1] *= 0\n",
    "            pred_x_0[:, :, :, -1] += reference_image\n",
    "        return pred_x_0\n",
    "\n",
    "    def predict_x_0(self, t, x_t, noise_scheduler):\n",
    "        device = torch.device(\"cuda\") if torch.cuda.is_available() else torch.device(\"cpu\")\n",
    "        timesteps = torch.LongTensor([t]).to(device)\n",
    "        x_0_pred = self.unet(x_t.to(device), timesteps.to(device), return_dict=False)[0]\n",
    "        return x_0_pred.cpu()\n",
    "\n",
    "    def step(self, t, target_t, x_t, noise_scheduler):\n",
    "        x_0_pred = self.predict_x_0(t, x_t, noise_scheduler)\n",
    "        new_timestep = torch.LongTensor([target_t]).to(device)\n",
    "        new_x_t = noise_scheduler.add_noise(x_0_pred, torch.randn_like(x_0_pred), new_timestep).to(device)\n",
    "\n",
    "        return new_x_t, noise_pred\n",
    "\n",
    "    def diffusion_pipeline(self, x_t_start, t_start, t_end, noise_scheduler, num_steps=50, verbose=False):\n",
    "        with torch.no_grad():\n",
    "            x_t = x_t_start.clone()\n",
    "\n",
    "            timesteps = torch.linspace(t_start, t_end, num_steps + 1).int()\n",
    "            for i in tqdm(range(1, len(timesteps)), disable=not verbose):\n",
    "                t = timesteps[i - 1]\n",
    "                target_t = timesteps[i]\n",
    "                x_t, _ = self.step(t, target_t, x_t, noise_scheduler)\n",
    "            return x_t\n",
    "\n",
    "    def guided_diffusion_pipeline(\n",
    "        self, x_t_start, t_start, t_end, noise_scheduler, num_steps,\n",
    "        integer_brain_coord, brain2_slices_rs, reference_image,\n",
    "        batch_size, verbose=True\n",
    "    ):\n",
    "        x_t = x_t_start.clone()\n",
    "\n",
    "        timesteps = torch.linspace(t_start, t_end + self.buffer, num_steps + 1).int()\n",
    "        iterator = tqdm(range(1, len(timesteps)))\n",
    "        for i in iterator:\n",
    "            t = timesteps[i - 1]\n",
    "            target_t = timesteps[i]\n",
    "            permutations = [\n",
    "                [0, 1, 2, 3],\n",
    "                [1, 2, 0, 3],\n",
    "                [2, 0, 1, 3]\n",
    "            ]\n",
    "            with torch.no_grad():\n",
    "                permutation = permutations[i % len(permutations)]\n",
    "                axial_batches = flatten(permutation, x_t)\n",
    "                pred_x_0 = torch.zeros_like(axial_batches)\n",
    "                assert(len(axial_batches) % batch_size == 0)\n",
    "                for j, x_t_batch in enumerate(axial_batches.unfold(dimension=0, size=batch_size, step=batch_size).permute(0, 3, 1, 2)):\n",
    "                    pred_x_0[j * batch_size: (j+1) * batch_size] = self.predict_x_0(t, x_t_batch, noise_scheduler)\n",
    "                    iterator.set_postfix({\"state\": f\"running batch {j}\"})\n",
    "                    \n",
    "                iterator.set_postfix({\"state\": f\"starting unflattening\"})\n",
    "                pred_x_0 = unflatten(permutation, pred_x_0, x_t.shape)\n",
    "                del axial_batches\n",
    "                \n",
    "            pred_x_0 = self.inpainting(pred_x_0, integer_brain_coord, brain2_slices_rs, reference_image)\n",
    "\n",
    "            new_timestep = torch.LongTensor([target_t]).to(device)\n",
    "            x_t = noise_scheduler.add_noise(pred_x_0, torch.randn_like(pred_x_0), new_timestep)\n",
    "\n",
    "\n",
    "#         x_t = self.diffusion_pipeline(\n",
    "#             x_t, t_end + self.buffer, t_end,\n",
    "#             noise_scheduler, num_steps=self.buffer,\n",
    "#             verbose=verbose\n",
    "#         )\n",
    "\n",
    "        return x_t\n"
   ]
  },
  {
   "cell_type": "code",
   "execution_count": null,
   "id": "c4f300a2",
   "metadata": {
    "tags": []
   },
   "outputs": [
    {
     "name": "stderr",
     "output_type": "stream",
     "text": [
      "  6% 3/50 [08:04<1:49:01, 139.19s/it, state=running batch 517]    "
     ]
    }
   ],
   "source": [
    "from tqdm.auto import tqdm\n",
    "T = torch.LongTensor([999])\n",
    "noise = torch.randn_like(volume)\n",
    "x_T = noise_scheduler.add_noise(volume, noise, T).cpu()\n",
    "\n",
    "bsd = BrainSliceDiffusion(volume.shape, channels_indices=torch.arange(-10, 0), unet=model)\n",
    "\n",
    "res = bsd.guided_diffusion_pipeline(\n",
    "    x_t_start = x_T, t_start=999, t_end=0, noise_scheduler=noise_scheduler, num_steps=50,\n",
    "    integer_brain_coord=integer_brain_coord, brain2_slices_rs=brain2_slices_rs, reference_image=padded_reference,\n",
    "    batch_size=2400, verbose = True\n",
    ")"
   ]
  },
  {
   "cell_type": "code",
   "execution_count": null,
   "id": "9e91291c-b196-4960-95a2-7ada11122929",
   "metadata": {
    "tags": []
   },
   "outputs": [],
   "source": [
    "np.save(\"mice_recons\", res.cpu().detach().numpy())"
   ]
  },
  {
   "cell_type": "code",
   "execution_count": null,
   "id": "eadefbd0",
   "metadata": {
    "tags": []
   },
   "outputs": [],
   "source": [
    "plt.imshow(res[:, :, :, -1][:, 130].cpu())"
   ]
  },
  {
   "cell_type": "code",
   "execution_count": null,
   "id": "073fb331",
   "metadata": {
    "tags": []
   },
   "outputs": [],
   "source": [
    "plt.plot(res[303, :, 200])"
   ]
  },
  {
   "cell_type": "code",
   "execution_count": null,
   "id": "c8332493-dc21-4882-a11a-6666811e8e23",
   "metadata": {},
   "outputs": [],
   "source": []
  }
 ],
 "metadata": {
  "kernelspec": {
   "display_name": "Python 3 (ipykernel)",
   "language": "python",
   "name": "python3"
  },
  "language_info": {
   "codemirror_mode": {
    "name": "ipython",
    "version": 3
   },
   "file_extension": ".py",
   "mimetype": "text/x-python",
   "name": "python",
   "nbconvert_exporter": "python",
   "pygments_lexer": "ipython3",
   "version": "3.10.11"
  }
 },
 "nbformat": 4,
 "nbformat_minor": 5
}
